{
  "nbformat": 4,
  "nbformat_minor": 0,
  "metadata": {
    "colab": {
      "provenance": [],
      "gpuType": "T4"
    },
    "kernelspec": {
      "name": "python3",
      "display_name": "Python 3"
    },
    "language_info": {
      "name": "python"
    },
    "accelerator": "GPU"
  },
  "cells": [
    {
      "cell_type": "code",
      "source": [
        "!pip install pymupdf"
      ],
      "metadata": {
        "colab": {
          "base_uri": "https://localhost:8080/"
        },
        "id": "3TYsgXMhBa2H",
        "outputId": "f0f99601-f704-4619-c155-6421e37711f9"
      },
      "execution_count": 1,
      "outputs": [
        {
          "output_type": "stream",
          "name": "stdout",
          "text": [
            "Collecting pymupdf\n",
            "  Downloading PyMuPDF-1.24.9-cp310-none-manylinux2014_x86_64.whl.metadata (3.4 kB)\n",
            "Collecting PyMuPDFb==1.24.9 (from pymupdf)\n",
            "  Downloading PyMuPDFb-1.24.9-py3-none-manylinux2014_x86_64.manylinux_2_17_x86_64.whl.metadata (1.4 kB)\n",
            "Downloading PyMuPDF-1.24.9-cp310-none-manylinux2014_x86_64.whl (3.5 MB)\n",
            "\u001b[2K   \u001b[90m━━━━━━━━━━━━━━━━━━━━━━━━━━━━━━━━━━━━━━━━\u001b[0m \u001b[32m3.5/3.5 MB\u001b[0m \u001b[31m29.5 MB/s\u001b[0m eta \u001b[36m0:00:00\u001b[0m\n",
            "\u001b[?25hDownloading PyMuPDFb-1.24.9-py3-none-manylinux2014_x86_64.manylinux_2_17_x86_64.whl (15.9 MB)\n",
            "\u001b[2K   \u001b[90m━━━━━━━━━━━━━━━━━━━━━━━━━━━━━━━━━━━━━━━━\u001b[0m \u001b[32m15.9/15.9 MB\u001b[0m \u001b[31m36.2 MB/s\u001b[0m eta \u001b[36m0:00:00\u001b[0m\n",
            "\u001b[?25hInstalling collected packages: PyMuPDFb, pymupdf\n",
            "Successfully installed PyMuPDFb-1.24.9 pymupdf-1.24.9\n"
          ]
        }
      ]
    },
    {
      "cell_type": "markdown",
      "source": [
        "Getting data"
      ],
      "metadata": {
        "id": "u6uYy0ZYEcjd"
      }
    },
    {
      "cell_type": "code",
      "execution_count": 50,
      "metadata": {
        "colab": {
          "base_uri": "https://localhost:8080/"
        },
        "id": "h5hjCcLDr2WC",
        "outputId": "f9051b7e-d915-4e9c-94a1-2ef7ff8e5f9a"
      },
      "outputs": [
        {
          "output_type": "stream",
          "name": "stdout",
          "text": [
            "--2024-07-26 13:15:18--  https://github.com/Nihar1402-iit/LLM/blob/main/Robbins-Pathologic2005.txt\n",
            "Resolving github.com (github.com)... 140.82.113.4\n",
            "Connecting to github.com (github.com)|140.82.113.4|:443... connected.\n",
            "HTTP request sent, awaiting response... 200 OK\n",
            "Length: unspecified [text/html]\n",
            "Saving to: ‘Robbins-Pathologic2005.txt’\n",
            "\n",
            "Robbins-Pathologic2     [  <=>               ] 162.18K   669KB/s    in 0.2s    \n",
            "\n",
            "2024-07-26 13:15:19 (669 KB/s) - ‘Robbins-Pathologic2005.txt’ saved [166069]\n",
            "\n"
          ]
        }
      ],
      "source": [
        "# Download the Robbins-Pathologic2005.txt dataset\n",
        "!wget https://github.com/Nihar1402-iit/LLM/blob/main/Robbins-Pathologic2005.txt -O Robbins-Pathologic2005.txt\n"
      ]
    },
    {
      "cell_type": "code",
      "source": [
        "# read it in to inspect it\n",
        "with open('Robbins-Pathologic2005.txt', 'r', encoding='utf-8') as f:\n",
        "    text = f.read()"
      ],
      "metadata": {
        "id": "O6medjfRsLD9"
      },
      "execution_count": 56,
      "outputs": []
    },
    {
      "cell_type": "code",
      "source": [
        "print(\"length of dataset in characters: \", len(text))"
      ],
      "metadata": {
        "colab": {
          "base_uri": "https://localhost:8080/"
        },
        "id": "6xWI_VyAsN8F",
        "outputId": "4b92833b-edc0-4710-a474-2169eb127784"
      },
      "execution_count": 57,
      "outputs": [
        {
          "output_type": "stream",
          "name": "stdout",
          "text": [
            "length of dataset in characters:  2291963\n"
          ]
        }
      ]
    },
    {
      "cell_type": "code",
      "source": [
        "# let's look at the first 1000 characters\n",
        "print(text[2000:3000])"
      ],
      "metadata": {
        "colab": {
          "base_uri": "https://localhost:8080/"
        },
        "id": "2c5V0FvqseE0",
        "outputId": "ed5a96e8-7775-4069-ac0e-2b92eb81a330"
      },
      "execution_count": 58,
      "outputs": [
        {
          "output_type": "stream",
          "name": "stdout",
          "text": [
            "he patient, to\n",
            "determine dosages and the best treatment for each individual patient. Neither the publisher nor the authors assume any liability for any injury and/or damage to persons or property arising\n",
            "from this publication.\n",
            "\n",
            "\fPrevious editions copyrighted 1999, 1994, 1989, 1984, 1979, 1974\n",
            "Library of Congress Cataloging-in-Publication Data\n",
            "Robbins and Cotran pathologic basis of disease.—7th ed./[edited by]\n",
            "Vinay Kumar, Abul K. Abbas, Nelson Fausto ; with illustrations by James A. Perkins. p. ; cm.\n",
            "Rev. ed. of: Robbins pathologic basis of disease, 1999.\n",
            "ISBN 0-7216-0187-1\n",
            "1. Pathology.\n",
            "[DNLM: 1. Pathology. QZ 4 R6354 2004] I. Title: Pathologic basis of disease. II. Kumar, Vinay. III. Abbas, Abul K. IV. Fausto, Nelson. V. Robbins, Stanley L. (Stanley Leonard). VI. Cotran,\n",
            "Ramzi S. Robbins pathologic basis of disease.\n",
            "RB111.R62 2004\n",
            "616.07—dc22\n",
            "2004046835\n",
            "Publishing Director: William Schmitt\n",
            "Managing Editor: Rebecca Gruliow\n",
            "Design Manager: Ellen Zanolle\n",
            "Printed in China\n",
            "Last digit is t\n"
          ]
        }
      ]
    },
    {
      "cell_type": "markdown",
      "source": [
        "Identify unique characters and print them along with the vocab size"
      ],
      "metadata": {
        "id": "TR6YW4yiExZR"
      }
    },
    {
      "cell_type": "code",
      "source": [
        "# here are all the unique characters that occur in this text\n",
        "chars = sorted(list(set(text)))\n",
        "vocab_size = len(chars)\n",
        "print(''.join(chars))\n",
        "print(vocab_size)"
      ],
      "metadata": {
        "colab": {
          "base_uri": "https://localhost:8080/"
        },
        "id": "0e-Rbyr8sfM8",
        "outputId": "1f186ad8-275d-4131-ec62-880bfdc2b7e0"
      },
      "execution_count": 60,
      "outputs": [
        {
          "output_type": "stream",
          "name": "stdout",
          "text": [
            "\n",
            "\f !\"$%&'()*+,-./0123456789:;<=>?@ABCDEFGHIJKLMNOPQRSTUVWXYZ[]abcdefghijklmnopqrstuvwxyz§©°±µ½×Üáéïöúüˆαβγδζκλ–—†‡•™→∆∼≤≥■●\n",
            "123\n"
          ]
        }
      ]
    },
    {
      "cell_type": "markdown",
      "source": [
        "# Create Character to Integer Mapping and Encoding/Decoding Functions"
      ],
      "metadata": {
        "id": "O6kAJSzgE-3c"
      }
    },
    {
      "cell_type": "code",
      "source": [
        "\n",
        "# create a mapping from characters to integers\n",
        "stoi = { ch:i for i,ch in enumerate(chars) }\n",
        "itos = { i:ch for i,ch in enumerate(chars) }\n",
        "encode = lambda s: [stoi[c] for c in s] # encoder: take a string, output a list of integers\n",
        "decode = lambda l: ''.join([itos[i] for i in l]) # decoder: take a list of integers, output a string\n",
        "\n",
        "print(encode(\"hii there\"))\n",
        "print(decode(encode(\"hii there\")))"
      ],
      "metadata": {
        "colab": {
          "base_uri": "https://localhost:8080/"
        },
        "id": "Yw1LKNCgwjj1",
        "outputId": "59f093a8-057e-4986-d871-eb26f7139199"
      },
      "execution_count": 61,
      "outputs": [
        {
          "output_type": "stream",
          "name": "stdout",
          "text": [
            "[69, 70, 70, 2, 81, 69, 66, 79, 66]\n",
            "hii there\n"
          ]
        }
      ]
    },
    {
      "cell_type": "markdown",
      "source": [
        "# let's now encode the entire text dataset and store it into a torch.Tensor"
      ],
      "metadata": {
        "id": "Prp86gvSFFAo"
      }
    },
    {
      "cell_type": "code",
      "source": [
        "\n",
        "import torch # we use PyTorch: https://pytorch.org\n",
        "data = torch.tensor(encode(text), dtype=torch.long)\n",
        "print(data.shape, data.dtype)\n",
        "print(data[:1000]) # the 1000 characters we looked at earier will to the GPT look like this"
      ],
      "metadata": {
        "colab": {
          "base_uri": "https://localhost:8080/"
        },
        "id": "YJb0OXPwzvqg",
        "outputId": "84f40920-d6ca-4d79-d439-a22f9cbb3446"
      },
      "execution_count": 62,
      "outputs": [
        {
          "output_type": "stream",
          "name": "stdout",
          "text": [
            "torch.Size([2291963]) torch.int64\n",
            "tensor([42,  0,  0, 42, 42,  0,  0, 42, 42, 42,  0,  0, 51, 76, 63, 63, 70, 75,\n",
            "        80,  2, 62, 75, 65,  2, 36, 76, 81, 79, 62, 75,  2, 49, 34, 53, 41, 48,\n",
            "        45, 48, 40, 42, 36,  2, 35, 34, 52, 42, 52,  2, 48, 39,  2, 37, 42, 52,\n",
            "        38, 34, 52, 38,  0, 52, 66, 83, 66, 75, 81, 69,  2, 38, 65, 70, 81, 70,\n",
            "        76, 75,  0,  0, 55, 42, 47, 34, 58,  2, 44, 54, 46, 34, 51,  2, 46, 35,\n",
            "        35, 52, 13,  2, 46, 37, 13,  2, 39, 51, 36, 49, 62, 81, 69,  0, 34, 73,\n",
            "        70, 64, 66,  2, 41, 76, 68, 68, 66,  2, 62, 75, 65,  2, 34, 79, 81, 69,\n",
            "        82, 79,  2, 35, 62, 66, 79,  2, 49, 79, 76, 67, 66, 80, 80, 76, 79,  0,\n",
            "        36, 69, 62, 70, 79, 74, 62, 75, 13,  0, 37, 66, 77, 62, 79, 81, 74, 66,\n",
            "        75, 81,  2, 76, 67,  2, 49, 62, 81, 69, 76, 73, 76, 68, 86,  0, 53, 69,\n",
            "        66,  2, 54, 75, 70, 83, 66, 79, 80, 70, 81, 86,  2, 76, 67,  2, 36, 69,\n",
            "        70, 64, 62, 68, 76, 13,  0, 49, 79, 70, 81, 87, 72, 66, 79,  2, 52, 64,\n",
            "        69, 76, 76, 73,  2, 76, 67,  2, 46, 66, 65, 70, 64, 70, 75, 66,  0, 36,\n",
            "        69, 70, 64, 62, 68, 76, 13,  2, 42, 73, 73, 70, 75, 76, 70, 80,  0, 34,\n",
            "        35, 54, 45,  2, 44, 15,  2, 34, 35, 35, 34, 52,  2, 46, 35, 35, 52,  0,\n",
            "        36, 69, 62, 70, 79, 13,  0, 37, 66, 77, 62, 79, 81, 74, 66, 75, 81,  2,\n",
            "        76, 67,  2, 49, 62, 81, 69, 76, 73, 76, 68, 86,  0, 54, 75, 70, 83, 66,\n",
            "        79, 80, 70, 81, 86,  2, 76, 67,  2, 36, 62, 73, 70, 67, 76, 79, 75, 70,\n",
            "        62, 13,  2, 52, 62, 75,  2, 39, 79, 62, 75, 64, 70, 80, 64, 76,  0, 52,\n",
            "        62, 75,  2, 39, 79, 62, 75, 64, 70, 80, 64, 76, 13,  2, 36, 62, 73, 70,\n",
            "        67, 76, 79, 75, 70, 62,  0, 47, 38, 45, 52, 48, 47,  2, 39, 34, 54, 52,\n",
            "        53, 48,  2, 46, 37,  0, 36, 69, 62, 70, 79, 74, 62, 75, 13,  0, 37, 66,\n",
            "        77, 62, 79, 81, 74, 66, 75, 81,  2, 76, 67,  2, 49, 62, 81, 69, 76, 73,\n",
            "        76, 68, 86,  0, 54, 75, 70, 83, 66, 79, 80, 70, 81, 86,  2, 76, 67,  2,\n",
            "        56, 62, 80, 69, 70, 75, 68, 81, 76, 75,  2, 52, 64, 69, 76, 76, 73,  2,\n",
            "        76, 67,  2, 46, 66, 65, 70, 64, 70, 75, 66,  0, 52, 66, 62, 81, 81, 73,\n",
            "        66, 13,  2, 56, 62, 80, 69, 70, 75, 68, 81, 76, 75,  0,  0,  1, 56, 70,\n",
            "        81, 69,  2, 42, 73, 73, 82, 80, 81, 79, 62, 81, 70, 76, 75, 80,  2, 63,\n",
            "        86,  2, 43, 62, 74, 66, 80,  2, 34, 15,  2, 49, 66, 79, 72, 70, 75, 80,\n",
            "        13,  2, 46, 52, 13,  2, 46, 39, 34,  0, 38, 45, 52, 38, 55, 42, 38, 51,\n",
            "         0, 52, 34, 54, 47, 37, 38, 51, 52,  0,  0, 42, 55,  0,  0, 38, 45, 52,\n",
            "        38, 55, 42, 38, 51,  0, 52, 34, 54, 47, 37, 38, 51, 52,  0, 34, 75,  2,\n",
            "        42, 74, 77, 79, 70, 75, 81,  2, 76, 67,  2, 38, 73, 80, 66, 83, 70, 66,\n",
            "        79,  0, 53, 69, 66,  2, 36, 82, 79, 81, 70, 80,  2, 36, 66, 75, 81, 66,\n",
            "        79,  0, 18, 24, 17,  2, 52,  2, 42, 75, 65, 66, 77, 66, 75, 65, 66, 75,\n",
            "        64, 66,  2, 46, 62, 73, 73,  2, 56,  2, 20, 17, 17, 38,  0, 49, 69, 70,\n",
            "        73, 62, 65, 66, 73, 77, 69, 70, 62, 13,  2, 49, 66, 75, 75, 80, 86, 73,\n",
            "        83, 62, 75, 70, 62,  2, 18, 26, 18, 17, 23,  0, 51, 48, 35, 35, 42, 47,\n",
            "        52,  2, 34, 47, 37,  2, 36, 48, 53, 51, 34, 47,  2, 49, 34, 53, 41, 48,\n",
            "        45, 48, 40, 42, 36,  2, 35, 34, 52, 42, 52,  2, 48, 39,  2, 37, 42, 52,\n",
            "        38, 34, 52, 38, 13,  2, 24, 16, 38,  0, 17, 14, 24, 19, 18, 23, 14, 17,\n",
            "        18, 25, 24, 14, 18,  0, 42, 75, 81, 66, 79, 75, 62, 81, 70, 76, 75, 62,\n",
            "        73,  2, 38, 65, 70, 81, 70, 76, 75,  2, 42, 52, 35, 47,  2, 17, 14, 25,\n",
            "        17, 25, 26, 14, 19, 20, 17, 19, 14, 18,  0, 36, 76, 77, 86, 79, 70, 68,\n",
            "        69, 81,  2, 89,  2, 19, 17, 17, 22, 13,  2, 38, 73, 80, 66, 83, 70, 66,\n",
            "        79,  2, 42, 75, 64, 15,  2, 34, 73, 73,  2, 79, 70, 68, 69, 81, 80,  2,\n",
            "        79, 66, 80, 66, 79, 83, 66, 65, 15,  0, 47, 76,  2, 77, 62, 79, 81,  2,\n",
            "        76, 67,  2, 81, 69, 70, 80,  2, 77, 82, 63, 73, 70, 64, 62, 81, 70, 76,\n",
            "        75,  2, 74, 62, 86,  2, 63, 66,  2, 79, 66, 77, 79, 76, 65, 82, 64, 66,\n",
            "        65,  2, 76, 79,  2, 81, 79, 62, 75, 80, 74, 70, 81, 81, 66, 65,  2, 70,\n",
            "        75,  2, 62, 75, 86,  2, 67, 76, 79, 74,  2, 76, 79,  2, 63, 86,  2, 62,\n",
            "        75, 86,  2, 74, 66, 62, 75, 80, 13,  2, 66, 73, 66, 64, 81, 79, 76, 75,\n",
            "        70, 64,  2, 76, 79,  2, 74, 66, 64, 69, 62, 75, 70, 64, 62, 73, 13,  2,\n",
            "        70, 75, 64, 73, 82, 65, 70, 75, 68,  2, 77, 69, 76, 81, 76, 64, 76, 77,\n",
            "        86, 70, 75, 68, 13,  2, 79, 66, 64, 76, 79, 65, 70, 75, 68, 13,  2, 76,\n",
            "        79,  2, 62, 75, 86,  2, 70, 75, 67, 76])\n"
          ]
        }
      ]
    },
    {
      "cell_type": "markdown",
      "source": [
        "# Let's now split up the data into train and validation sets"
      ],
      "metadata": {
        "id": "Q2OOMO83FI3D"
      }
    },
    {
      "cell_type": "code",
      "source": [
        "\n",
        "n = int(0.9*len(data)) # first 90% will be train, rest val\n",
        "train_data = data[:n]\n",
        "val_data = data[n:]"
      ],
      "metadata": {
        "id": "f_WIXqxz0lU5"
      },
      "execution_count": 63,
      "outputs": []
    },
    {
      "cell_type": "code",
      "source": [
        "block_size = 8\n",
        "train_data[:block_size+1]"
      ],
      "metadata": {
        "colab": {
          "base_uri": "https://localhost:8080/"
        },
        "id": "TD5Bj8Y6IAD4",
        "outputId": "6b7af74e-ccc7-42d7-938c-84c37df5f0da"
      },
      "execution_count": 64,
      "outputs": [
        {
          "output_type": "execute_result",
          "data": {
            "text/plain": [
              "tensor([42,  0,  0, 42, 42,  0,  0, 42, 42])"
            ]
          },
          "metadata": {},
          "execution_count": 64
        }
      ]
    },
    {
      "cell_type": "markdown",
      "source": [
        "# Generate Context-Target Pairs for Training"
      ],
      "metadata": {
        "id": "nz-LTsp0FqBf"
      }
    },
    {
      "cell_type": "code",
      "source": [
        "x = train_data[:block_size]\n",
        "y = train_data[1:block_size+1]\n",
        "for t in range(block_size):\n",
        "    context = x[:t+1]\n",
        "    target = y[t]\n",
        "    print(f\"when input is {context} the target: {target}\")"
      ],
      "metadata": {
        "colab": {
          "base_uri": "https://localhost:8080/"
        },
        "id": "9HXDe8vGJCEn",
        "outputId": "da0178e4-b5a0-4674-ed85-3b69b5a84b7b"
      },
      "execution_count": 65,
      "outputs": [
        {
          "output_type": "stream",
          "name": "stdout",
          "text": [
            "when input is tensor([42]) the target: 0\n",
            "when input is tensor([42,  0]) the target: 0\n",
            "when input is tensor([42,  0,  0]) the target: 42\n",
            "when input is tensor([42,  0,  0, 42]) the target: 42\n",
            "when input is tensor([42,  0,  0, 42, 42]) the target: 0\n",
            "when input is tensor([42,  0,  0, 42, 42,  0]) the target: 0\n",
            "when input is tensor([42,  0,  0, 42, 42,  0,  0]) the target: 42\n",
            "when input is tensor([42,  0,  0, 42, 42,  0,  0, 42]) the target: 42\n"
          ]
        }
      ]
    },
    {
      "cell_type": "markdown",
      "source": [
        "# Batch Generation and Context-Target Pair Display"
      ],
      "metadata": {
        "id": "fn7x02mgF6by"
      }
    },
    {
      "cell_type": "code",
      "source": [
        "torch.manual_seed(1337)\n",
        "batch_size = 4 # how many independent sequences will we process in parallel?\n",
        "block_size = 8 # what is the maximum context length for predictions?\n",
        "\n",
        "def get_batch(split):\n",
        "    # generate a small batch of data of inputs x and targets y\n",
        "    data = train_data if split == 'train' else val_data\n",
        "    ix = torch.randint(len(data) - block_size, (batch_size,))\n",
        "    x = torch.stack([data[i:i+block_size] for i in ix])\n",
        "    y = torch.stack([data[i+1:i+block_size+1] for i in ix])\n",
        "    return x, y\n",
        "\n",
        "xb, yb = get_batch('train')\n",
        "print('inputs:')\n",
        "print(xb.shape)\n",
        "print(xb)\n",
        "print('targets:')\n",
        "print(yb.shape)\n",
        "print(yb)\n",
        "\n",
        "print('----')\n",
        "\n",
        "for b in range(batch_size): # batch dimension\n",
        "    for t in range(block_size): # time dimension\n",
        "        context = xb[b, :t+1]\n",
        "        target = yb[b,t]\n",
        "        print(f\"when input is {context.tolist()} the target: {target}\")"
      ],
      "metadata": {
        "colab": {
          "base_uri": "https://localhost:8080/"
        },
        "id": "Q3k1Czf7LuA9",
        "outputId": "5efaf345-e0cb-4de2-b309-da4d4dacf0ab"
      },
      "execution_count": 66,
      "outputs": [
        {
          "output_type": "stream",
          "name": "stdout",
          "text": [
            "inputs:\n",
            "torch.Size([4, 8])\n",
            "tensor([[20, 13,  2, 18, 26, 26, 20, 15],\n",
            "        [86,  0, 62, 64, 81, 70, 83, 62],\n",
            "        [80, 74, 76, 72, 66, 15,  2, 42],\n",
            "        [73, 86,  2, 77, 69, 62, 80, 66]])\n",
            "targets:\n",
            "torch.Size([4, 8])\n",
            "tensor([[13,  2, 18, 26, 26, 20, 15,  0],\n",
            "        [ 0, 62, 64, 81, 70, 83, 62, 81],\n",
            "        [74, 76, 72, 66, 15,  2, 42, 75],\n",
            "        [86,  2, 77, 69, 62, 80, 66,  2]])\n",
            "----\n",
            "when input is [20] the target: 13\n",
            "when input is [20, 13] the target: 2\n",
            "when input is [20, 13, 2] the target: 18\n",
            "when input is [20, 13, 2, 18] the target: 26\n",
            "when input is [20, 13, 2, 18, 26] the target: 26\n",
            "when input is [20, 13, 2, 18, 26, 26] the target: 20\n",
            "when input is [20, 13, 2, 18, 26, 26, 20] the target: 15\n",
            "when input is [20, 13, 2, 18, 26, 26, 20, 15] the target: 0\n",
            "when input is [86] the target: 0\n",
            "when input is [86, 0] the target: 62\n",
            "when input is [86, 0, 62] the target: 64\n",
            "when input is [86, 0, 62, 64] the target: 81\n",
            "when input is [86, 0, 62, 64, 81] the target: 70\n",
            "when input is [86, 0, 62, 64, 81, 70] the target: 83\n",
            "when input is [86, 0, 62, 64, 81, 70, 83] the target: 62\n",
            "when input is [86, 0, 62, 64, 81, 70, 83, 62] the target: 81\n",
            "when input is [80] the target: 74\n",
            "when input is [80, 74] the target: 76\n",
            "when input is [80, 74, 76] the target: 72\n",
            "when input is [80, 74, 76, 72] the target: 66\n",
            "when input is [80, 74, 76, 72, 66] the target: 15\n",
            "when input is [80, 74, 76, 72, 66, 15] the target: 2\n",
            "when input is [80, 74, 76, 72, 66, 15, 2] the target: 42\n",
            "when input is [80, 74, 76, 72, 66, 15, 2, 42] the target: 75\n",
            "when input is [73] the target: 86\n",
            "when input is [73, 86] the target: 2\n",
            "when input is [73, 86, 2] the target: 77\n",
            "when input is [73, 86, 2, 77] the target: 69\n",
            "when input is [73, 86, 2, 77, 69] the target: 62\n",
            "when input is [73, 86, 2, 77, 69, 62] the target: 80\n",
            "when input is [73, 86, 2, 77, 69, 62, 80] the target: 66\n",
            "when input is [73, 86, 2, 77, 69, 62, 80, 66] the target: 2\n"
          ]
        }
      ]
    },
    {
      "cell_type": "code",
      "source": [
        "print(xb) # our input to the transformer"
      ],
      "metadata": {
        "colab": {
          "base_uri": "https://localhost:8080/"
        },
        "id": "qpyyAeIzQjlO",
        "outputId": "18861440-e27d-4606-8e3c-80ceacec74da"
      },
      "execution_count": 67,
      "outputs": [
        {
          "output_type": "stream",
          "name": "stdout",
          "text": [
            "tensor([[20, 13,  2, 18, 26, 26, 20, 15],\n",
            "        [86,  0, 62, 64, 81, 70, 83, 62],\n",
            "        [80, 74, 76, 72, 66, 15,  2, 42],\n",
            "        [73, 86,  2, 77, 69, 62, 80, 66]])\n"
          ]
        }
      ]
    },
    {
      "cell_type": "markdown",
      "source": [
        "# Define and Test a Bigram Language Model in PyTorch"
      ],
      "metadata": {
        "id": "LZoaA_uoGGV1"
      }
    },
    {
      "cell_type": "code",
      "source": [
        "import torch\n",
        "import torch.nn as nn\n",
        "from torch.nn import functional as F\n",
        "torch.manual_seed(1337)\n",
        "\n",
        "class BigramLanguageModel(nn.Module):\n",
        "\n",
        "    def __init__(self, vocab_size):\n",
        "        super().__init__()\n",
        "        # each token directly reads off the logits for the next token from a lookup table\n",
        "        self.token_embedding_table = nn.Embedding(vocab_size, vocab_size)\n",
        "\n",
        "    def forward(self, idx, targets=None):\n",
        "\n",
        "        # idx and targets are both (B,T) tensor of integers\n",
        "        logits = self.token_embedding_table(idx) # (B,T,C)\n",
        "\n",
        "        if targets is None:\n",
        "            loss = None\n",
        "        else:\n",
        "            B, T, C = logits.shape\n",
        "            logits = logits.view(B*T, C)\n",
        "            targets = targets.view(B*T)\n",
        "            loss = F.cross_entropy(logits, targets)\n",
        "\n",
        "        return logits, loss\n",
        "\n",
        "    def generate(self, idx, max_new_tokens):\n",
        "        # idx is (B, T) array of indices in the current context\n",
        "        for _ in range(max_new_tokens):\n",
        "            # get the predictions\n",
        "            logits, loss = self(idx)\n",
        "            # focus only on the last time step\n",
        "            logits = logits[:, -1, :] # becomes (B, C)\n",
        "            # apply softmax to get probabilities\n",
        "            probs = F.softmax(logits, dim=-1) # (B, C)\n",
        "            # sample from the distribution\n",
        "            idx_next = torch.multinomial(probs, num_samples=1) # (B, 1)\n",
        "            # append sampled index to the running sequence\n",
        "            idx = torch.cat((idx, idx_next), dim=1) # (B, T+1)\n",
        "        return idx\n",
        "\n",
        "m = BigramLanguageModel(vocab_size)\n",
        "logits, loss = m(xb, yb)\n",
        "print(logits.shape)\n",
        "print(loss)\n",
        "\n",
        "print(decode(m.generate(idx = torch.zeros((1, 1), dtype=torch.long), max_new_tokens=100)[0].tolist()))\n"
      ],
      "metadata": {
        "colab": {
          "base_uri": "https://localhost:8080/"
        },
        "id": "nql_1ER53oCf",
        "outputId": "e4de5ad8-007a-429e-feb3-575f36e50665"
      },
      "execution_count": 68,
      "outputs": [
        {
          "output_type": "stream",
          "name": "stdout",
          "text": [
            "torch.Size([32, 123])\n",
            "tensor(5.3819, grad_fn=<NllLossBackward0>)\n",
            "\n",
            "§‡gB½<>S∆0fÜ™\n",
            "½[■2l=—©<\f/½Qe–■NY±haζYN≥eÜ>6—–bnl∼Cs?Nd½sα●5ü*@TvGc±xZx!ggcUü7ÜaZf\fg–ˆ αI'q)pO™©PT(gA\n"
          ]
        }
      ]
    },
    {
      "cell_type": "code",
      "source": [
        "# create a PyTorch optimizer\n",
        "optimizer = torch.optim.AdamW(m.parameters(), lr=1e-3)"
      ],
      "metadata": {
        "id": "eTyJ8qAaDdiF"
      },
      "execution_count": 69,
      "outputs": []
    },
    {
      "cell_type": "code",
      "source": [
        "batch_size = 32\n",
        "for steps in range(100): # increase number of steps for good results...\n",
        "\n",
        "    # sample a batch of data\n",
        "    xb, yb = get_batch('train')\n",
        "\n",
        "    # evaluate the loss\n",
        "    logits, loss = m(xb, yb)\n",
        "    optimizer.zero_grad(set_to_none=True)\n",
        "    loss.backward()\n",
        "    optimizer.step()\n",
        "\n",
        "print(loss.item())\n"
      ],
      "metadata": {
        "colab": {
          "base_uri": "https://localhost:8080/"
        },
        "id": "Hs4kI8YdEkQj",
        "outputId": "21145c5e-5884-4708-a64c-3702b6dc9942"
      },
      "execution_count": 70,
      "outputs": [
        {
          "output_type": "stream",
          "name": "stdout",
          "text": [
            "5.285351753234863\n"
          ]
        }
      ]
    },
    {
      "cell_type": "code",
      "source": [
        "print(decode(m.generate(idx = torch.zeros((1, 1), dtype=torch.long), max_new_tokens=500)[0].tolist()))"
      ],
      "metadata": {
        "colab": {
          "base_uri": "https://localhost:8080/"
        },
        "id": "EcVIDWAZEtjN",
        "outputId": "7a97abcd-fcd2-41d9-857b-86937c7ae9a1"
      },
      "execution_count": 71,
      "outputs": [
        {
          "output_type": "stream",
          "name": "stdout",
          "text": [
            "\n",
            "5O∆→2‡*z\fGWXB]m5ü0]A%ZqByK@O<psa@BÜ;&ïx8x<U—kr;O—‡ühE●é!λ<A3yE@XápÜPκSKδuAHu½∆Q12lXái+×!ZuS pö,n\f×?3α½Vλü<EïVlvuSYi;I•ET$h$©.k27—lX†7EloJ\n",
            ">±α'L2Kh;O™KδnüZUjá&3ÜR\n",
            "=N;x,HxO7*d7rC\fXtïSeZ-z)pp5,\f)I≥‡Uf'F×>7)λζ™δβ p$p\f—H—×=P)™†?≤4(R\fj.\f×;†Q*q©]e!S8<rq[—→á!Sc-[/,arr\n",
            "5bi@NH2o@½N-X,?Qj†ˆ×CUu,>uepö≥>EWnfygu4v½tGEE–J(ζR\fÜµokcβü'Fγfpx?\"α&κ@U≥]*κδ8)V‡\n",
            ")δh\fo—†MxO>r0k;>.8'o@Ul;—λfBgAh0v Nn+■2zeb—Yi'F]D)H*–pGhJlVMαV†©jA ,[[Sκ@.:×?ET3s≥ÜTÜ½•MiVüa±G½j4,E½(.I≥±HtH§?;IB>i•eXm,ï.9L'cc×yo\f)L•αö;9H[■∆ˆ ∼h™PgRPé≥:;‡?x\n"
          ]
        }
      ]
    },
    {
      "cell_type": "markdown",
      "source": [
        "## The mathematical trick in self-attention"
      ],
      "metadata": {
        "id": "XinV8nmAnmKN"
      }
    },
    {
      "cell_type": "code",
      "source": [
        "# toy example illustrating how matrix multiplication can be used for a \"weighted aggregation\"\n",
        "torch.manual_seed(42)\n",
        "a = torch.tril(torch.ones(3, 3))\n",
        "a = a / torch.sum(a, 1, keepdim=True)\n",
        "b = torch.randint(0,10,(3,2)).float()\n",
        "c = a @ b\n",
        "print('a=')\n",
        "print(a)\n",
        "print('--')\n",
        "print('b=')\n",
        "print(b)\n",
        "print('--')\n",
        "print('c=')\n",
        "print(c)"
      ],
      "metadata": {
        "colab": {
          "base_uri": "https://localhost:8080/"
        },
        "id": "tukiH-NbRBhA",
        "outputId": "ef487376-25d6-4414-ca1d-e3a04b7fa6e3"
      },
      "execution_count": 72,
      "outputs": [
        {
          "output_type": "stream",
          "name": "stdout",
          "text": [
            "a=\n",
            "tensor([[1.0000, 0.0000, 0.0000],\n",
            "        [0.5000, 0.5000, 0.0000],\n",
            "        [0.3333, 0.3333, 0.3333]])\n",
            "--\n",
            "b=\n",
            "tensor([[2., 7.],\n",
            "        [6., 4.],\n",
            "        [6., 5.]])\n",
            "--\n",
            "c=\n",
            "tensor([[2.0000, 7.0000],\n",
            "        [4.0000, 5.5000],\n",
            "        [4.6667, 5.3333]])\n"
          ]
        }
      ]
    },
    {
      "cell_type": "code",
      "source": [
        "# consider the following toy example:\n",
        "\n",
        "torch.manual_seed(1337)\n",
        "B,T,C = 4,8,2 # batch, time, channels\n",
        "x = torch.randn(B,T,C)\n",
        "x.shape"
      ],
      "metadata": {
        "colab": {
          "base_uri": "https://localhost:8080/"
        },
        "id": "Hs_E24uRE8kr",
        "outputId": "6c2a4919-fda9-4773-90df-c267f47e260e"
      },
      "execution_count": 73,
      "outputs": [
        {
          "output_type": "execute_result",
          "data": {
            "text/plain": [
              "torch.Size([4, 8, 2])"
            ]
          },
          "metadata": {},
          "execution_count": 73
        }
      ]
    },
    {
      "cell_type": "code",
      "source": [
        "# We want x[b,t] = mean_{i<=t} x[b,i]\n",
        "xbow = torch.zeros((B,T,C))\n",
        "for b in range(B):\n",
        "    for t in range(T):\n",
        "        xprev = x[b,:t+1] # (t,C)\n",
        "        xbow[b,t] = torch.mean(xprev, 0)\n"
      ],
      "metadata": {
        "id": "86NuXX0fn7ps"
      },
      "execution_count": 74,
      "outputs": []
    },
    {
      "cell_type": "code",
      "source": [
        "# version 2: using matrix multiply for a weighted aggregation\n",
        "wei = torch.tril(torch.ones(T, T))\n",
        "wei = wei / wei.sum(1, keepdim=True)\n",
        "xbow2 = wei @ x # (B, T, T) @ (B, T, C) ----> (B, T, C)\n",
        "torch.allclose(xbow, xbow2)"
      ],
      "metadata": {
        "colab": {
          "base_uri": "https://localhost:8080/"
        },
        "id": "yhdOAd6-wXkZ",
        "outputId": "33dd5773-d5cc-41b3-979b-f5226a284779"
      },
      "execution_count": 75,
      "outputs": [
        {
          "output_type": "execute_result",
          "data": {
            "text/plain": [
              "False"
            ]
          },
          "metadata": {},
          "execution_count": 75
        }
      ]
    },
    {
      "cell_type": "code",
      "source": [
        "# version 3: use Softmax\n",
        "tril = torch.tril(torch.ones(T, T))\n",
        "wei = torch.zeros((T,T))\n",
        "wei = wei.masked_fill(tril == 0, float('-inf'))\n",
        "wei = F.softmax(wei, dim=-1)\n",
        "xbow3 = wei @ x\n",
        "torch.allclose(xbow, xbow3)\n"
      ],
      "metadata": {
        "colab": {
          "base_uri": "https://localhost:8080/"
        },
        "id": "wOURrfG-ysoL",
        "outputId": "e6fb539d-dee0-44b9-c1a9-56160aa1a7e3"
      },
      "execution_count": 76,
      "outputs": [
        {
          "output_type": "execute_result",
          "data": {
            "text/plain": [
              "False"
            ]
          },
          "metadata": {},
          "execution_count": 76
        }
      ]
    },
    {
      "cell_type": "code",
      "source": [
        "# version 4: self-attention!\n",
        "torch.manual_seed(1337)\n",
        "B,T,C = 4,8,32 # batch, time, channels\n",
        "x = torch.randn(B,T,C)\n",
        "\n",
        "# let's see a single Head perform self-attention\n",
        "head_size = 16\n",
        "key = nn.Linear(C, head_size, bias=False)\n",
        "query = nn.Linear(C, head_size, bias=False)\n",
        "value = nn.Linear(C, head_size, bias=False)\n",
        "k = key(x)   # (B, T, 16)\n",
        "q = query(x) # (B, T, 16)\n",
        "wei =  q @ k.transpose(-2, -1) # (B, T, 16) @ (B, 16, T) ---> (B, T, T)\n",
        "\n",
        "tril = torch.tril(torch.ones(T, T))\n",
        "#wei = torch.zeros((T,T))\n",
        "wei = wei.masked_fill(tril == 0, float('-inf'))\n",
        "wei = F.softmax(wei, dim=-1)\n",
        "\n",
        "v = value(x)\n",
        "out = wei @ v\n",
        "#out = wei @ x\n",
        "\n",
        "out.shape"
      ],
      "metadata": {
        "colab": {
          "base_uri": "https://localhost:8080/"
        },
        "id": "EDarxEWIRMKq",
        "outputId": "b88dcfec-b378-40ce-f9ae-e341a4e480c1"
      },
      "execution_count": 77,
      "outputs": [
        {
          "output_type": "execute_result",
          "data": {
            "text/plain": [
              "torch.Size([4, 8, 16])"
            ]
          },
          "metadata": {},
          "execution_count": 77
        }
      ]
    },
    {
      "cell_type": "code",
      "source": [
        "wei[0]"
      ],
      "metadata": {
        "colab": {
          "base_uri": "https://localhost:8080/"
        },
        "id": "vT1hdtzXCjgL",
        "outputId": "a4630629-091b-4e2b-8d8a-8a4fa0b62883"
      },
      "execution_count": 78,
      "outputs": [
        {
          "output_type": "execute_result",
          "data": {
            "text/plain": [
              "tensor([[1.0000, 0.0000, 0.0000, 0.0000, 0.0000, 0.0000, 0.0000, 0.0000],\n",
              "        [0.1574, 0.8426, 0.0000, 0.0000, 0.0000, 0.0000, 0.0000, 0.0000],\n",
              "        [0.2088, 0.1646, 0.6266, 0.0000, 0.0000, 0.0000, 0.0000, 0.0000],\n",
              "        [0.5792, 0.1187, 0.1889, 0.1131, 0.0000, 0.0000, 0.0000, 0.0000],\n",
              "        [0.0294, 0.1052, 0.0469, 0.0276, 0.7909, 0.0000, 0.0000, 0.0000],\n",
              "        [0.0176, 0.2689, 0.0215, 0.0089, 0.6812, 0.0019, 0.0000, 0.0000],\n",
              "        [0.1691, 0.4066, 0.0438, 0.0416, 0.1048, 0.2012, 0.0329, 0.0000],\n",
              "        [0.0210, 0.0843, 0.0555, 0.2297, 0.0573, 0.0709, 0.2423, 0.2391]],\n",
              "       grad_fn=<SelectBackward0>)"
            ]
          },
          "metadata": {},
          "execution_count": 78
        }
      ]
    },
    {
      "cell_type": "markdown",
      "source": [
        "Notes:\n",
        "- Attention is a **communication mechanism**. Can be seen as nodes in a directed graph looking at each other and aggregating information with a weighted sum from all nodes that point to them, with data-dependent weights.\n",
        "- There is no notion of space. Attention simply acts over a set of vectors. This is why we need to positionally encode tokens.\n",
        "- Each example across batch dimension is of course processed completely independently and never \"talk\" to each other\n",
        "- In an \"encoder\" attention block just delete the single line that does masking with `tril`, allowing all tokens to communicate. This block here is called a \"decoder\" attention block because it has triangular masking, and is usually used in autoregressive settings, like language modeling.\n",
        "- \"self-attention\" just means that the keys and values are produced from the same source as queries. In \"cross-attention\", the queries still get produced from x, but the keys and values come from some other, external source (e.g. an encoder module)\n",
        "- \"Scaled\" attention additional divides `wei` by 1/sqrt(head_size). This makes it so when input Q,K are unit variance, wei will be unit variance too and Softmax will stay diffuse and not saturate too much. Illustration below"
      ],
      "metadata": {
        "id": "M5CvobiQ0pLr"
      }
    },
    {
      "cell_type": "code",
      "source": [
        "k = torch.randn(B,T,head_size)\n",
        "q = torch.randn(B,T,head_size)\n",
        "wei = q @ k.transpose(-2, -1) * head_size**-0.5"
      ],
      "metadata": {
        "id": "4SNbLq5z3oBw"
      },
      "execution_count": 79,
      "outputs": []
    },
    {
      "cell_type": "code",
      "source": [
        "k.var()"
      ],
      "metadata": {
        "colab": {
          "base_uri": "https://localhost:8080/"
        },
        "id": "Nl6I9n9IRTSo",
        "outputId": "a7cc4338-a263-4bfb-dd58-d292ecc7faeb"
      },
      "execution_count": 80,
      "outputs": [
        {
          "output_type": "execute_result",
          "data": {
            "text/plain": [
              "tensor(1.0449)"
            ]
          },
          "metadata": {},
          "execution_count": 80
        }
      ]
    },
    {
      "cell_type": "code",
      "source": [
        "q.var()"
      ],
      "metadata": {
        "colab": {
          "base_uri": "https://localhost:8080/"
        },
        "id": "T1tQx7oeRvtc",
        "outputId": "36e67b07-2f01-4306-a6b0-948b1b845203"
      },
      "execution_count": 81,
      "outputs": [
        {
          "output_type": "execute_result",
          "data": {
            "text/plain": [
              "tensor(1.0700)"
            ]
          },
          "metadata": {},
          "execution_count": 81
        }
      ]
    },
    {
      "cell_type": "code",
      "source": [
        "wei.var()"
      ],
      "metadata": {
        "colab": {
          "base_uri": "https://localhost:8080/"
        },
        "id": "MLb_odHU3iKM",
        "outputId": "1c1516d2-f6f1-42ff-bce1-0dd1785cf30f"
      },
      "execution_count": 82,
      "outputs": [
        {
          "output_type": "execute_result",
          "data": {
            "text/plain": [
              "tensor(1.0918)"
            ]
          },
          "metadata": {},
          "execution_count": 82
        }
      ]
    },
    {
      "cell_type": "code",
      "source": [
        "torch.softmax(torch.tensor([0.1, -0.2, 0.3, -0.2, 0.5]), dim=-1)"
      ],
      "metadata": {
        "colab": {
          "base_uri": "https://localhost:8080/"
        },
        "id": "JB82yzt44REI",
        "outputId": "e044ef3e-05d6-4d78-bfb5-b9aed8c6736f"
      },
      "execution_count": 83,
      "outputs": [
        {
          "output_type": "execute_result",
          "data": {
            "text/plain": [
              "tensor([0.1925, 0.1426, 0.2351, 0.1426, 0.2872])"
            ]
          },
          "metadata": {},
          "execution_count": 83
        }
      ]
    },
    {
      "cell_type": "code",
      "source": [
        "torch.softmax(torch.tensor([0.1, -0.2, 0.3, -0.2, 0.5])*8, dim=-1) # gets too peaky, converges to one-hot"
      ],
      "metadata": {
        "colab": {
          "base_uri": "https://localhost:8080/"
        },
        "id": "Mpt8569BB9_f",
        "outputId": "f1e105fd-7a77-4e2d-8c18-33df11c8d44f"
      },
      "execution_count": 84,
      "outputs": [
        {
          "output_type": "execute_result",
          "data": {
            "text/plain": [
              "tensor([0.0326, 0.0030, 0.1615, 0.0030, 0.8000])"
            ]
          },
          "metadata": {},
          "execution_count": 84
        }
      ]
    },
    {
      "cell_type": "code",
      "source": [
        "class LayerNorm1d: # (used to be BatchNorm1d)\n",
        "\n",
        "  def __init__(self, dim, eps=1e-5, momentum=0.1):\n",
        "    self.eps = eps\n",
        "    self.gamma = torch.ones(dim)\n",
        "    self.beta = torch.zeros(dim)\n",
        "\n",
        "  def __call__(self, x):\n",
        "    # calculate the forward pass\n",
        "    xmean = x.mean(1, keepdim=True) # batch mean\n",
        "    xvar = x.var(1, keepdim=True) # batch variance\n",
        "    xhat = (x - xmean) / torch.sqrt(xvar + self.eps) # normalize to unit variance\n",
        "    self.out = self.gamma * xhat + self.beta\n",
        "    return self.out\n",
        "\n",
        "  def parameters(self):\n",
        "    return [self.gamma, self.beta]\n",
        "\n",
        "torch.manual_seed(1337)\n",
        "module = LayerNorm1d(100)\n",
        "x = torch.randn(32, 100) # batch size 32 of 100-dimensional vectors\n",
        "x = module(x)\n",
        "x.shape"
      ],
      "metadata": {
        "colab": {
          "base_uri": "https://localhost:8080/"
        },
        "id": "2Num7sX9CKOH",
        "outputId": "3a72edcb-1afd-4a04-e8fb-719895935445"
      },
      "execution_count": 85,
      "outputs": [
        {
          "output_type": "execute_result",
          "data": {
            "text/plain": [
              "torch.Size([32, 100])"
            ]
          },
          "metadata": {},
          "execution_count": 85
        }
      ]
    },
    {
      "cell_type": "code",
      "source": [
        "x[:,0].mean(), x[:,0].std() # mean,std of one feature across all batch inputs"
      ],
      "metadata": {
        "colab": {
          "base_uri": "https://localhost:8080/"
        },
        "id": "633T2cmnW1uk",
        "outputId": "d1e5ed3c-f680-4b2e-e5a7-43fbb8cba97e"
      },
      "execution_count": 86,
      "outputs": [
        {
          "output_type": "execute_result",
          "data": {
            "text/plain": [
              "(tensor(0.1469), tensor(0.8803))"
            ]
          },
          "metadata": {},
          "execution_count": 86
        }
      ]
    },
    {
      "cell_type": "code",
      "source": [
        "x[0,:].mean(), x[0,:].std() # mean,std of a single input from the batch, of its features"
      ],
      "metadata": {
        "colab": {
          "base_uri": "https://localhost:8080/"
        },
        "id": "LN9cK9BoXCYb",
        "outputId": "1ea4519e-a1de-4fa9-a91e-1ac974bce5aa"
      },
      "execution_count": 87,
      "outputs": [
        {
          "output_type": "execute_result",
          "data": {
            "text/plain": [
              "(tensor(-9.5367e-09), tensor(1.0000))"
            ]
          },
          "metadata": {},
          "execution_count": 87
        }
      ]
    },
    {
      "cell_type": "code",
      "source": [
        "# French to English translation example:\n",
        "\n",
        "# <--------- ENCODE ------------------><--------------- DECODE ----------------->\n",
        "# les réseaux de neurones sont géniaux! <START> neural networks are awesome!<END>\n",
        "\n"
      ],
      "metadata": {
        "id": "dRJH6wM_XFfU"
      },
      "execution_count": 88,
      "outputs": []
    },
    {
      "cell_type": "markdown",
      "source": [
        "### Full finished code, for reference\n",
        "\n",
        "You may want to refer directly to the git repo instead though."
      ],
      "metadata": {
        "id": "ZcvKeBXoZFOY"
      }
    },
    {
      "cell_type": "code",
      "source": [
        "import torch\n",
        "import torch.nn as nn\n",
        "from torch.nn import functional as F\n",
        "\n",
        "# hyperparameters\n",
        "batch_size = 16 # how many independent sequences will we process in parallel?\n",
        "block_size = 32 # what is the maximum context length for predictions?\n",
        "max_iters = 5000\n",
        "eval_interval = 100\n",
        "learning_rate = 1e-3\n",
        "device = 'cuda' if torch.cuda.is_available() else 'cpu'\n",
        "eval_iters = 200\n",
        "n_embd = 64\n",
        "n_head = 4\n",
        "n_layer = 4\n",
        "dropout = 0.0\n",
        "# ------------\n",
        "\n",
        "# load and process data\n",
        "torch.manual_seed(1337)\n",
        "\n",
        "\n",
        "# !wget https://github.com/Nihar1402-iit/LLM/blob/main/Robbins-Pathologic2005.txt -O Robbins-Pathologic2005.txt\n",
        "with open('Robbins-Pathologic2005.txt', 'r', encoding='utf-8') as f:\n",
        "    text = f.read()\n",
        "\n",
        "# here are all the unique characters that occur in this text\n",
        "chars = sorted(list(set(text)))\n",
        "vocab_size = len(chars)\n",
        "# create a mapping from characters to integers\n",
        "stoi = { ch:i for i,ch in enumerate(chars) }\n",
        "itos = { i:ch for i,ch in enumerate(chars) }\n",
        "encode = lambda s: [stoi[c] for c in s] # encoder: take a string, output a list of integers\n",
        "decode = lambda l: ''.join([itos[i] for i in l]) # decoder: take a list of integers, output a string\n",
        "\n",
        "# Train and test splits\n",
        "data = torch.tensor(encode(text), dtype=torch.long)\n",
        "n = int(0.9*len(data)) # first 90% will be train, rest val\n",
        "train_data = data[:n]\n",
        "val_data = data[n:]\n",
        "\n",
        "# data loading\n",
        "def get_batch(split):\n",
        "    # generate a small batch of data of inputs x and targets y\n",
        "    data = train_data if split == 'train' else val_data\n",
        "    ix = torch.randint(len(data) - block_size, (batch_size,))\n",
        "    x = torch.stack([data[i:i+block_size] for i in ix])\n",
        "    y = torch.stack([data[i+1:i+block_size+1] for i in ix])\n",
        "    x, y = x.to(device), y.to(device)\n",
        "    return x, y\n",
        "\n",
        "# Define Loss Estimation Function\n",
        "@torch.no_grad()\n",
        "def estimate_loss():\n",
        "    out = {}\n",
        "    model.eval()\n",
        "    for split in ['train', 'val']:\n",
        "        losses = torch.zeros(eval_iters)\n",
        "        for k in range(eval_iters):\n",
        "            X, Y = get_batch(split)\n",
        "            logits, loss = model(X, Y)\n",
        "            losses[k] = loss.item()\n",
        "        out[split] = losses.mean()\n",
        "    model.train()\n",
        "    return out\n",
        "\n",
        "# Define Model Components\n",
        "##Self-Attention Head\n",
        "class Head(nn.Module):\n",
        "    \"\"\" one head of self-attention \"\"\"\n",
        "\n",
        "    def __init__(self, head_size):\n",
        "        super().__init__()\n",
        "        self.key = nn.Linear(n_embd, head_size, bias=False)\n",
        "        self.query = nn.Linear(n_embd, head_size, bias=False)\n",
        "        self.value = nn.Linear(n_embd, head_size, bias=False)\n",
        "        self.register_buffer('tril', torch.tril(torch.ones(block_size, block_size)))\n",
        "\n",
        "        self.dropout = nn.Dropout(dropout)\n",
        "\n",
        "    def forward(self, x):\n",
        "        B,T,C = x.shape\n",
        "        k = self.key(x)   # (B,T,C)\n",
        "        q = self.query(x) # (B,T,C)\n",
        "        # compute attention scores (\"affinities\")\n",
        "        wei = q @ k.transpose(-2,-1) * C**-0.5 # (B, T, C) @ (B, C, T) -> (B, T, T)\n",
        "        wei = wei.masked_fill(self.tril[:T, :T] == 0, float('-inf')) # (B, T, T)\n",
        "        wei = F.softmax(wei, dim=-1) # (B, T, T)\n",
        "        wei = self.dropout(wei)\n",
        "        # perform the weighted aggregation of the values\n",
        "        v = self.value(x) # (B,T,C)\n",
        "        out = wei @ v # (B, T, T) @ (B, T, C) -> (B, T, C)\n",
        "        return out\n",
        "## Multi-Head Attention\n",
        "class MultiHeadAttention(nn.Module):\n",
        "    \"\"\" multiple heads of self-attention in parallel \"\"\"\n",
        "\n",
        "    def __init__(self, num_heads, head_size):\n",
        "        super().__init__()\n",
        "        self.heads = nn.ModuleList([Head(head_size) for _ in range(num_heads)])\n",
        "        self.proj = nn.Linear(n_embd, n_embd)\n",
        "        self.dropout = nn.Dropout(dropout)\n",
        "\n",
        "    def forward(self, x):\n",
        "        out = torch.cat([h(x) for h in self.heads], dim=-1)\n",
        "        out = self.dropout(self.proj(out))\n",
        "        return out\n",
        "## Feed Forward\n",
        "class FeedFoward(nn.Module):\n",
        "    \"\"\" a simple linear layer followed by a non-linearity \"\"\"\n",
        "\n",
        "    def __init__(self, n_embd):\n",
        "        super().__init__()\n",
        "        self.net = nn.Sequential(\n",
        "            nn.Linear(n_embd, 4 * n_embd),\n",
        "            nn.ReLU(),\n",
        "            nn.Linear(4 * n_embd, n_embd),\n",
        "            nn.Dropout(dropout),\n",
        "        )\n",
        "\n",
        "    def forward(self, x):\n",
        "        return self.net(x)\n",
        "\n",
        "## Transformer Block\n",
        "class Block(nn.Module):\n",
        "    \"\"\" Transformer block: communication followed by computation \"\"\"\n",
        "\n",
        "    def __init__(self, n_embd, n_head):\n",
        "        # n_embd: embedding dimension, n_head: the number of heads we'd like\n",
        "        super().__init__()\n",
        "        head_size = n_embd // n_head\n",
        "        self.sa = MultiHeadAttention(n_head, head_size)\n",
        "        self.ffwd = FeedFoward(n_embd)\n",
        "        self.ln1 = nn.LayerNorm(n_embd)\n",
        "        self.ln2 = nn.LayerNorm(n_embd)\n",
        "\n",
        "    def forward(self, x):\n",
        "        x = x + self.sa(self.ln1(x))\n",
        "        x = x + self.ffwd(self.ln2(x))\n",
        "        return x\n",
        "\n",
        "# super simple bigram model\n",
        "class BigramLanguageModel(nn.Module):\n",
        "\n",
        "    def __init__(self):\n",
        "        super().__init__()\n",
        "        # each token directly reads off the logits for the next token from a lookup table\n",
        "        self.token_embedding_table = nn.Embedding(vocab_size, n_embd)\n",
        "        self.position_embedding_table = nn.Embedding(block_size, n_embd)\n",
        "        self.blocks = nn.Sequential(*[Block(n_embd, n_head=n_head) for _ in range(n_layer)])\n",
        "        self.ln_f = nn.LayerNorm(n_embd) # final layer norm\n",
        "        self.lm_head = nn.Linear(n_embd, vocab_size)\n",
        "\n",
        "    def forward(self, idx, targets=None):\n",
        "        B, T = idx.shape\n",
        "\n",
        "        # idx and targets are both (B,T) tensor of integers\n",
        "        tok_emb = self.token_embedding_table(idx) # (B,T,C)\n",
        "        pos_emb = self.position_embedding_table(torch.arange(T, device=device)) # (T,C)\n",
        "        x = tok_emb + pos_emb # (B,T,C)\n",
        "        x = self.blocks(x) # (B,T,C)\n",
        "        x = self.ln_f(x) # (B,T,C)\n",
        "        logits = self.lm_head(x) # (B,T,vocab_size)\n",
        "\n",
        "        if targets is None:\n",
        "            loss = None\n",
        "        else:\n",
        "            B, T, C = logits.shape\n",
        "            logits = logits.view(B*T, C)\n",
        "            targets = targets.view(B*T)\n",
        "            loss = F.cross_entropy(logits, targets)\n",
        "\n",
        "        return logits, loss\n",
        "\n",
        "    def generate(self, idx, max_new_tokens):\n",
        "        # idx is (B, T) array of indices in the current context\n",
        "        for _ in range(max_new_tokens):\n",
        "            # crop idx to the last block_size tokens\n",
        "            idx_cond = idx[:, -block_size:]\n",
        "            # get the predictions\n",
        "            logits, loss = self(idx_cond)\n",
        "            # focus only on the last time step\n",
        "            logits = logits[:, -1, :] # becomes (B, C)\n",
        "            # apply softmax to get probabilities\n",
        "            probs = F.softmax(logits, dim=-1) # (B, C)\n",
        "            # sample from the distribution\n",
        "            idx_next = torch.multinomial(probs, num_samples=1) # (B, 1)\n",
        "            # append sampled index to the running sequence\n",
        "            idx = torch.cat((idx, idx_next), dim=1) # (B, T+1)\n",
        "        return idx\n",
        "\n",
        "# Model Initialization:\n",
        "model = BigramLanguageModel()\n",
        "m = model.to(device)\n",
        "# print the number of parameters in the model\n",
        "print(sum(p.numel() for p in m.parameters())/1e6, 'M parameters')\n",
        "\n",
        "# create a PyTorch optimizer\n",
        "optimizer = torch.optim.AdamW(model.parameters(), lr=learning_rate)\n",
        "\n",
        "# Training Loop:\n",
        "for iter in range(max_iters):\n",
        "\n",
        "    # every once in a while evaluate the loss on train and val sets\n",
        "    if iter % eval_interval == 0 or iter == max_iters - 1:\n",
        "        losses = estimate_loss()\n",
        "        print(f\"step {iter}: train loss {losses['train']:.4f}, val loss {losses['val']:.4f}\")\n",
        "\n",
        "    # sample a batch of data\n",
        "    xb, yb = get_batch('train')\n",
        "\n",
        "    # evaluate the loss\n",
        "    logits, loss = model(xb, yb)\n",
        "    optimizer.zero_grad(set_to_none=True)\n",
        "    loss.backward()\n",
        "    optimizer.step()\n",
        "\n",
        "# generate from the model\n",
        "context = torch.zeros((1, 1), dtype=torch.long, device=device)\n",
        "print(decode(m.generate(context, max_new_tokens=2000)[0].tolist()))\n"
      ],
      "metadata": {
        "colab": {
          "base_uri": "https://localhost:8080/"
        },
        "id": "hoelkOrFY8bN",
        "outputId": "e6ed093e-cf8b-4c9e-810e-0c0fd081635e"
      },
      "execution_count": 89,
      "outputs": [
        {
          "output_type": "stream",
          "name": "stdout",
          "text": [
            "0.217211 M parameters\n",
            "step 0: train loss 4.9436, val loss 4.9391\n",
            "step 100: train loss 2.8786, val loss 2.9379\n",
            "step 200: train loss 2.6867, val loss 2.7197\n",
            "step 300: train loss 2.6299, val loss 2.6502\n",
            "step 400: train loss 2.5745, val loss 2.5959\n",
            "step 500: train loss 2.5265, val loss 2.5497\n",
            "step 600: train loss 2.4786, val loss 2.5002\n",
            "step 700: train loss 2.4227, val loss 2.4568\n",
            "step 800: train loss 2.4073, val loss 2.4340\n",
            "step 900: train loss 2.3419, val loss 2.3765\n",
            "step 1000: train loss 2.3051, val loss 2.3326\n",
            "step 1100: train loss 2.2618, val loss 2.3101\n",
            "step 1200: train loss 2.2390, val loss 2.2600\n",
            "step 1300: train loss 2.1964, val loss 2.2462\n",
            "step 1400: train loss 2.1840, val loss 2.2233\n",
            "step 1500: train loss 2.1436, val loss 2.1889\n",
            "step 1600: train loss 2.1346, val loss 2.1716\n",
            "step 1700: train loss 2.0937, val loss 2.1510\n",
            "step 1800: train loss 2.0926, val loss 2.1474\n",
            "step 1900: train loss 2.0510, val loss 2.1010\n",
            "step 2000: train loss 2.0409, val loss 2.0955\n",
            "step 2100: train loss 2.0161, val loss 2.0646\n",
            "step 2200: train loss 1.9853, val loss 2.0596\n",
            "step 2300: train loss 1.9766, val loss 2.0370\n",
            "step 2400: train loss 1.9493, val loss 2.0263\n",
            "step 2500: train loss 1.9383, val loss 1.9973\n",
            "step 2600: train loss 1.9131, val loss 1.9966\n",
            "step 2700: train loss 1.9086, val loss 1.9702\n",
            "step 2800: train loss 1.8930, val loss 1.9717\n",
            "step 2900: train loss 1.8848, val loss 1.9678\n",
            "step 3000: train loss 1.8613, val loss 1.9521\n",
            "step 3100: train loss 1.8476, val loss 1.9447\n",
            "step 3200: train loss 1.8654, val loss 1.9327\n",
            "step 3300: train loss 1.8282, val loss 1.9226\n",
            "step 3400: train loss 1.8291, val loss 1.9072\n",
            "step 3500: train loss 1.7991, val loss 1.8996\n",
            "step 3600: train loss 1.8004, val loss 1.8765\n",
            "step 3700: train loss 1.7990, val loss 1.8899\n",
            "step 3800: train loss 1.7816, val loss 1.8736\n",
            "step 3900: train loss 1.7956, val loss 1.9031\n",
            "step 4000: train loss 1.7848, val loss 1.8792\n",
            "step 4100: train loss 1.7567, val loss 1.8598\n",
            "step 4200: train loss 1.7512, val loss 1.8507\n",
            "step 4300: train loss 1.7636, val loss 1.8627\n",
            "step 4400: train loss 1.7527, val loss 1.8468\n",
            "step 4500: train loss 1.7437, val loss 1.8497\n",
            "step 4600: train loss 1.7394, val loss 1.8404\n",
            "step 4700: train loss 1.7333, val loss 1.8393\n",
            "step 4800: train loss 1.7060, val loss 1.8281\n",
            "step 4900: train loss 1.7178, val loss 1.8243\n",
            "step 4999: train loss 1.7058, val loss 1.8085\n",
            "\n",
            "\n",
            "\n",
            "noteplive\n",
            "\n",
            "Hedgenferents and\n",
            "\n",
            "Fand Phale, 2).[\n",
            "\n",
            "Lectals with Fabsis, p11sion VM: assocks of chay, hemerobacteric respocylera\n",
            "Divelophamy in Hospiration stal\n",
            "\n",
            "Letal virus a produbling inflown are a has blood in infection perix. Mairity of be the the tones bach intermia-sociated of right metange life the sluls; a. NNA1 and fasty.\n",
            "Eerocytopathic protein-carding, sitruction in encemia/ly expess.\n",
            "Phemiler mutatt; resk biomyory beact of the dromypitons the enzyme indited. Be Frhece are hus by alloobh and uppeomaning, hysive through the mediatts: blood and neveule the mediasts an has be salitions\n",
            "Hava discusses congenites. Prichopotesis, and component and may prote (ably; erespection of disorders. Accium C, Medistet. Rines P, Massion IM: Handsora relenoma of finectives (000,02).\n",
            "55 A, βp BR: S15-kerative or persully the gastore, staines and normal prem. BR-branniphemaoa perulations. Cause of narrous with clembranotast cycle0 be contrin use clinilary esit-genes\"\n",
            "Cancer conditions betach indicance hymphocytondromal expession and 8:553, 20%. Mowive Gram DC, TA.\n",
            "Fecy a sul consitive\" is femine. J Guistase of B Chalsor 1,B, f famenions, the las\n",
            "popital of4S\n",
            "\n",
            "Resterubemilium• hreacteria;\n",
            "Lect on the lijking can enable\n",
            "mocytic dat lymphocyte are nodmbemal becies of\n",
            "prode of a is\n",
            "defects\n",
            "This allocke anaminopathy protern presping tissue. The dolk-or response to thus bancers presenent\n",
            "lateler. Howerlowmer dischem neucleizar anemia stractures of influrectors have geas may in-it a kid to hight laters. Parely shlevered evidence insude despress. Sageten A cell\n",
            "G, leukemia prostm\n",
            "Virular vetain boty, specific dibion\n",
            "\n",
            "Symphacyl\n",
            "\n",
            "Centaine Remalies (seeronment 4,40.\n",
            "117. G, Rene M: Adulan and tumors mead lifestal beding the pan developmentia. E J CW, Bev is an (discreess lymphohydeloidistic adterophalemia. T lestal from the bast's or the isy produce risknowt of lige protenstic rebrild be spon to the suchled to electral develop; fevent aning apphackeny of bronchidu, (CTM-662 α):51 (8\n",
            "••• \n"
          ]
        }
      ]
    }
  ]
}